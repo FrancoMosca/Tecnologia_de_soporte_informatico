{
 "cells": [
  {
   "cell_type": "code",
   "execution_count": 23,
   "metadata": {
    "collapsed": true
   },
   "outputs": [],
   "source": [
    "import requests\n",
    "import pandas as pd\n",
    "from bs4 import BeautifulSoup\n",
    "\n",
    "def obtenerTexto(valor):\n",
    "    textos = []\n",
    "    for x in valor:\n",
    "        textos.append(x.getText())\n",
    "    return textos\n",
    "\n",
    "if __name__ == '__main__':\n",
    "\n",
    "        pagina = requests.get(\"https://autos.mercadolibre.com.ar/_Desde_49_NoIndex_True_VEHICLE*BODY*TYPE_452749\")\n",
    "        objeto_sopa = BeautifulSoup(pagina.content, 'html.parser')\n",
    "        diccionario = {}\n",
    "\n",
    "        precio = objeto_sopa.find_all(\"span\",class_=\"price-tag-fraction\")\n",
    "        diccionario[\"Precio\"] = obtenerTexto(precio)\n",
    "\n",
    "        nombre = objeto_sopa.find_all(\"h2\",class_=\"ui-search-item__title ui-search-item__group__element\")\n",
    "        diccionario[\"Nombre\"] = obtenerTexto(nombre)\n",
    "\n",
    "        zona = objeto_sopa.find_all(\"span\",class_=\"ui-search-item__group__element ui-search-item__location\")\n",
    "        diccionario[\"Zona\"] = obtenerTexto(zona)\n",
    "\n",
    "        #print(diccionario)\n",
    "        data = pd.DataFrame(diccionario)\n",
    "        data.to_csv(\"../data/ListadoMLAutos.csv\")\n",
    "\n",
    "\n"
   ]
  }
 ],
 "metadata": {
  "kernelspec": {
   "display_name": "Python 3",
   "language": "python",
   "name": "python3"
  },
  "language_info": {
   "codemirror_mode": {
    "name": "ipython",
    "version": 2
   },
   "file_extension": ".py",
   "mimetype": "text/x-python",
   "name": "python",
   "nbconvert_exporter": "python",
   "pygments_lexer": "ipython2",
   "version": "2.7.6"
  }
 },
 "nbformat": 4,
 "nbformat_minor": 0
}